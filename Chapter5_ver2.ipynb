{
  "nbformat": 4,
  "nbformat_minor": 0,
  "metadata": {
    "colab": {
      "name": "Chapter5_ver2.ipynb",
      "version": "0.3.2",
      "provenance": [],
      "include_colab_link": true
    },
    "kernelspec": {
      "name": "python3",
      "display_name": "Python 3"
    },
    "accelerator": "TPU"
  },
  "cells": [
    {
      "cell_type": "markdown",
      "metadata": {
        "id": "view-in-github",
        "colab_type": "text"
      },
      "source": [
        "<a href=\"https://colab.research.google.com/github/sd08419ttic/google_colab_workspace/blob/master/Chapter5_ver2.ipynb\" target=\"_parent\"><img src=\"https://colab.research.google.com/assets/colab-badge.svg\" alt=\"Open In Colab\"/></a>"
      ]
    },
    {
      "metadata": {
        "id": "xjiMVfzaHpdd",
        "colab_type": "text"
      },
      "cell_type": "markdown",
      "source": [
        "# 5 Pythonによる科学計算の基礎（NumpyとScipy）"
      ]
    },
    {
      "metadata": {
        "id": "G1nF_Q2jHpde",
        "colab_type": "text"
      },
      "cell_type": "markdown",
      "source": [
        "- **[5.1 概要](#5.1-概要)**\n",
        "    - [5.1.1 この章の概要について](#5.1.1-この章の概要について)\n",
        "<br><br>\n",
        "- **[5.2 Numpy](#5.2-Numpy)**\n",
        "    - [5.2.1 インデックス参照](#5.2.1-インデックス参照)\n",
        "    - [5.2.2 Numpyの演算処理](#5.2.2-Numpyの演算処理)\n",
        "    - [5.2.3 配列操作とブロードキャスト](#5.2.3-配列操作とブロードキャスト)\n",
        "<br><br>\n",
        "- **[5.3 Scipy](#5.3-Scipy)**\n",
        "    - [5.3.1 補間](#5.3.1-補間)\n",
        "    - [5.3.2 線形代数：行列の分解](#5.3.2-線形代数：行列の分解)\n",
        "    - [5.3.3 積分と微分方程式](#5.3.3-積分と微分方程式)\n",
        "    - [5.3.4 最適化](#5.3.4-最適化)\n",
        "<br><br>\n",
        "- **[5.4 総合問題](#5.4-総合問題)**\n",
        "    - [5.4.1 総合問題1](#5.4.1-総合問題1)\n",
        "    - [5.4.2 総合問題2](#5.4.2-総合問題2)\n",
        "    - [5.4.3 総合問題3](#5.4.3-総合問題3)"
      ]
    },
    {
      "metadata": {
        "id": "vU2jZKkDHpdf",
        "colab_type": "text"
      },
      "cell_type": "markdown",
      "source": [
        "***"
      ]
    },
    {
      "metadata": {
        "id": "6mZsYZ4LHpdg",
        "colab_type": "text"
      },
      "cell_type": "markdown",
      "source": [
        "## 5.1 概要\n",
        "ゴール：NumpyやScipyを使ったデータの生成や基本的な科学的計算方法を知る"
      ]
    },
    {
      "metadata": {
        "id": "i-NwPzTyHpdg",
        "colab_type": "text"
      },
      "cell_type": "markdown",
      "source": [
        "### 5.1.1 この章の概要について\n",
        "キーワード：Numpy,Scipy"
      ]
    },
    {
      "metadata": {
        "id": "i8RW6CxKHpdh",
        "colab_type": "text"
      },
      "cell_type": "markdown",
      "source": [
        "これまで、Pythonの基礎的なテクニックや代表的な科学技術計算モジュールNumpy、Scipyの基本的な使い方を学びました。この章では、これらのモジュールを引き続き使用し、さらに色々な計算テクニックを身に付けていきましょう。なお、前と同様に次のモジュールを使用するため、必ず以下のコードを実行してください。"
      ]
    },
    {
      "metadata": {
        "id": "YAcw0aRoHpdi",
        "colab_type": "code",
        "colab": {
          "base_uri": "https://localhost:8080/",
          "height": 34
        },
        "outputId": "d6649190-42f4-4914-a279-92f9dbdf04a6"
      },
      "cell_type": "code",
      "source": [
        "import numpy as np\n",
        "import numpy.random as random\n",
        "import scipy as sp\n",
        "from pandas import Series,DataFrame\n",
        "import pandas as pd\n",
        "\n",
        "# 可視化モジュール\n",
        "import matplotlib.pyplot as plt\n",
        "import matplotlib as mpl\n",
        "import seaborn as sns\n",
        "%matplotlib inline\n",
        "\n",
        "# 小数第３まで表示\n",
        "%precision 3"
      ],
      "execution_count": 2,
      "outputs": [
        {
          "output_type": "execute_result",
          "data": {
            "text/plain": [
              "'%.3f'"
            ]
          },
          "metadata": {
            "tags": []
          },
          "execution_count": 2
        }
      ]
    },
    {
      "metadata": {
        "id": "KELksVWoHpdn",
        "colab_type": "text"
      },
      "cell_type": "markdown",
      "source": [
        "Numpyはインデックス参照やブロードキャストについて、Scipyについては線形代数や積分計算、最適化計算ができることを見ていきます。"
      ]
    },
    {
      "metadata": {
        "id": "AYB5VW5eHpdp",
        "colab_type": "text"
      },
      "cell_type": "markdown",
      "source": [
        "本章と次の章は、データのハンドリングテクニック等がやや多くなります。最初はそれらのテクニックの必要性をあまり実感できませんが、各章の総合問題で実際のデータを使って、それらの手法を活用していただきます。しっかりと身につけていきましょう。"
      ]
    },
    {
      "metadata": {
        "id": "BIQSpV4SHpdq",
        "colab_type": "text"
      },
      "cell_type": "markdown",
      "source": [
        "以下の文献が参考になります。"
      ]
    },
    {
      "metadata": {
        "id": "Jci8NyLzHpdr",
        "colab_type": "text"
      },
      "cell_type": "markdown",
      "source": [
        ">[参考文献]\n",
        "\n",
        ">『科学技術計算のためのPython入門 ――開発基礎、必須ライブラリ、高速化』（中久喜 健司 (著)、技術評論社）\n",
        "\n",
        ">『Python言語によるビジネスアナリティクス 実務家のための最適化・統計解析・機械学習』（久保 幹雄  (著), 小林 和博 (著), 斉藤 努 (著), 並木 誠 (著), 橋本 英樹 (著)、近代科学社 ）\n",
        "\n",
        ">『Pythonによるデータ分析入門 ―NumPy、pandasを使ったデータ処理』（Wes McKinney (著), 小林 儀匡 (翻訳), 鈴木 宏尚 (翻訳), 瀬戸山 雅人  (翻訳)、滝口開資(翻訳)、野上大介(翻訳)、オライリージャパン）"
      ]
    },
    {
      "metadata": {
        "id": "_8Uw9iSKHpdr",
        "colab_type": "text"
      },
      "cell_type": "markdown",
      "source": [
        "なお、本章にあるScipyの単元は、数学的に少し高度なものを扱っています。おそらくこれらは理系の大学3〜4年生までに習うレベルのもので、初見の方はすぐに理解できなくても大丈夫です。後の章で全てを使うわけではないので、線形代数（行列分解など）、微分方程式、最適化計算（線形計画法）等をまだやっていない方は、詳細は理解できなくても大丈夫です。ここで扱った理由は、これらの分野を学んできた人（理論のみ）が、Cや他の言語では大変な科学計算の実装を，Pythonを使ってもっと気軽に実装するにはどうすればいいのかを知ってもらうためです。データサイエンスの現場や研究等で、これらの分野（微分方程式、最適化計算など）を使う必要がでてきた時に、ぜひScipyを使うことを検討してみてください。"
      ]
    },
    {
      "metadata": {
        "id": "r5VAgwkuHpds",
        "colab_type": "text"
      },
      "cell_type": "markdown",
      "source": [
        "***"
      ]
    },
    {
      "metadata": {
        "id": "FPOa5lFuHpdt",
        "colab_type": "text"
      },
      "cell_type": "markdown",
      "source": [
        "## 5.2 Numpy\n",
        "ゴール：Numpyのインデックス参照やブロードキャストなど、配列に関する応用的な処理を実行できるようになる"
      ]
    },
    {
      "metadata": {
        "id": "uSH5VWNbHpdu",
        "colab_type": "text"
      },
      "cell_type": "markdown",
      "source": [
        "### 5.2.1 インデックス参照\n",
        "キーワード：インデックス参照、スライス、ビュー"
      ]
    },
    {
      "metadata": {
        "id": "j_bwW6Z7Hpdw",
        "colab_type": "text"
      },
      "cell_type": "markdown",
      "source": [
        "以前の章でNumpyの使い方について、配列計算など基礎的なことを学びました。ここではさらに、応用的な操作を実施していきます。まずはインデックス参照です。データを準備します。"
      ]
    },
    {
      "metadata": {
        "scrolled": true,
        "id": "SQlCfrnHHpdx",
        "colab_type": "code",
        "colab": {
          "base_uri": "https://localhost:8080/",
          "height": 34
        },
        "outputId": "773a9207-a235-4797-f6f1-2fc6ce970f50"
      },
      "cell_type": "code",
      "source": [
        "# データの準備\n",
        "# 等間隔の数字\n",
        "sample_array = np.arange(10)\n",
        "print(\"sample_array:\",sample_array)"
      ],
      "execution_count": 3,
      "outputs": [
        {
          "output_type": "stream",
          "text": [
            "sample_array: [0 1 2 3 4 5 6 7 8 9]\n"
          ],
          "name": "stdout"
        }
      ]
    },
    {
      "metadata": {
        "id": "QH3B0hSJHpd1",
        "colab_type": "text"
      },
      "cell_type": "markdown",
      "source": [
        "上記のように、0から9までの数字(配列)を準備します。以下では、その変数（sample_array）から新しい変数（sample_array_slice）を作成し、その中の一部を10で置き換えています。\n",
        "\n",
        "その新しい変数をチェックすると、正しく変更されていることがわかります。しかし、実は元となる変数の要素も変更されるので注意しましょう。"
      ]
    },
    {
      "metadata": {
        "id": "OSCa0aTnHpd1",
        "colab_type": "code",
        "colab": {
          "base_uri": "https://localhost:8080/",
          "height": 85
        },
        "outputId": "16926c4e-de80-4a79-d2c4-5161aeb8b123"
      },
      "cell_type": "code",
      "source": [
        "# 元のデータ\n",
        "print(sample_array)\n",
        "\n",
        "# 前から数字を5つ取得して、sample_array_sliceに入れる（スライス）\n",
        "sample_array_slice = sample_array[0:5]\n",
        "print(sample_array_slice)\n",
        "\n",
        "# sample_array_sliceの3文字目までは、10で置換\n",
        "sample_array_slice[0:3] = 10\n",
        "print(sample_array_slice)\n",
        "\n",
        "# スライスの変更はオリジナルのリストの要素も変更されていることに注意\n",
        "print(sample_array)"
      ],
      "execution_count": 4,
      "outputs": [
        {
          "output_type": "stream",
          "text": [
            "[0 1 2 3 4 5 6 7 8 9]\n",
            "[0 1 2 3 4]\n",
            "[10 10 10  3  4]\n",
            "[10 10 10  3  4  5  6  7  8  9]\n"
          ],
          "name": "stdout"
        }
      ]
    },
    {
      "metadata": {
        "id": "NCIstEhxHpd5",
        "colab_type": "text"
      },
      "cell_type": "markdown",
      "source": [
        "なお、オリジナルのデータを変更せずに、コピーする場合は、以下のようにcopyを使い、その変数（sample_array_copy）を加工していきましょう。"
      ]
    },
    {
      "metadata": {
        "id": "RE1DMRteHpd6",
        "colab_type": "code",
        "colab": {
          "base_uri": "https://localhost:8080/",
          "height": 68
        },
        "outputId": "f6553bdb-c1ee-4a2f-eb4a-41716d154c91"
      },
      "cell_type": "code",
      "source": [
        "# copyして別のobjectを作成\n",
        "sample_array_copy = np.copy(sample_array)\n",
        "print(sample_array_copy)\n",
        "\n",
        "sample_array_copy[0:3] = 20\n",
        "print(sample_array_copy)\n",
        "\n",
        "# オリジナルのリストの要素は変更されていない\n",
        "print(sample_array)"
      ],
      "execution_count": 5,
      "outputs": [
        {
          "output_type": "stream",
          "text": [
            "[10 10 10  3  4  5  6  7  8  9]\n",
            "[20 20 20  3  4  5  6  7  8  9]\n",
            "[10 10 10  3  4  5  6  7  8  9]\n"
          ],
          "name": "stdout"
        }
      ]
    },
    {
      "metadata": {
        "id": "BblX5tprHpd-",
        "colab_type": "text"
      },
      "cell_type": "markdown",
      "source": [
        "次は、ブールインデックス参照です。これはその名の通り、bool(TrueかFalse)の役割を利用して、データを取り出しています。言葉で説明しても分かりにくいので、以下で具体例を見ていきます。"
      ]
    },
    {
      "metadata": {
        "id": "4aQWlMHnHpd_",
        "colab_type": "code",
        "colab": {
          "base_uri": "https://localhost:8080/",
          "height": 119
        },
        "outputId": "6d81fad9-36d9-492c-8c45-0f8d9ee5adfb"
      },
      "cell_type": "code",
      "source": [
        "# データの準備\n",
        "sample_names = np.array(['a','b','c','d','a'])\n",
        "random.seed(0)\n",
        "data = random.randn(5,5)\n",
        "\n",
        "print(sample_names)\n",
        "print(data)"
      ],
      "execution_count": 6,
      "outputs": [
        {
          "output_type": "stream",
          "text": [
            "['a' 'b' 'c' 'd' 'a']\n",
            "[[ 1.764  0.4    0.979  2.241  1.868]\n",
            " [-0.977  0.95  -0.151 -0.103  0.411]\n",
            " [ 0.144  1.454  0.761  0.122  0.444]\n",
            " [ 0.334  1.494 -0.205  0.313 -0.854]\n",
            " [-2.553  0.654  0.864 -0.742  2.27 ]]\n"
          ],
          "name": "stdout"
        }
      ]
    },
    {
      "metadata": {
        "id": "4u-5vLDTHpeC",
        "colab_type": "text"
      },
      "cell_type": "markdown",
      "source": [
        "上で作成したデータ要素にて、以下の処理は、aに等しい箇所はTrue、そうでなければFalseになります。"
      ]
    },
    {
      "metadata": {
        "id": "KVPp7nTgHpeD",
        "colab_type": "code",
        "colab": {
          "base_uri": "https://localhost:8080/",
          "height": 34
        },
        "outputId": "e2cbea31-21a2-4375-c2c0-3348d110ff6c"
      },
      "cell_type": "code",
      "source": [
        "sample_names == 'a'"
      ],
      "execution_count": 7,
      "outputs": [
        {
          "output_type": "execute_result",
          "data": {
            "text/plain": [
              "array([ True, False, False, False,  True])"
            ]
          },
          "metadata": {
            "tags": []
          },
          "execution_count": 7
        }
      ]
    },
    {
      "metadata": {
        "id": "6v5GncWcHpeG",
        "colab_type": "text"
      },
      "cell_type": "markdown",
      "source": [
        "上記のように、Trueになっている箇所を指定して、以下のようにデータを取り出していることがわかります。1番目と5番目がTrueなので、そのデータのみ抽出しています。これがブールインデックス参照です。"
      ]
    },
    {
      "metadata": {
        "id": "PLLkTvQIHpeH",
        "colab_type": "code",
        "colab": {
          "base_uri": "https://localhost:8080/",
          "height": 51
        },
        "outputId": "c89b9131-af8b-4d38-e06c-1e4dbff01fa4"
      },
      "cell_type": "code",
      "source": [
        "data[sample_names == 'a']"
      ],
      "execution_count": 8,
      "outputs": [
        {
          "output_type": "execute_result",
          "data": {
            "text/plain": [
              "array([[ 1.764,  0.4  ,  0.979,  2.241,  1.868],\n",
              "       [-2.553,  0.654,  0.864, -0.742,  2.27 ]])"
            ]
          },
          "metadata": {
            "tags": []
          },
          "execution_count": 8
        }
      ]
    },
    {
      "metadata": {
        "id": "sr-ba0orHpeL",
        "colab_type": "text"
      },
      "cell_type": "markdown",
      "source": [
        "次はブールを利用して、条件制御（np.whereを使用）しています。具体的には、cond_data変数の前2つがTrueなので、x_arrayのデータ前2つを取得し、次はFalseが2つ並んでいるので、そのインデックスと同じ要素をy_arrayからとっています。最後にTrueがあるので、こちらはまたx_arrayから最後の要素を取り出しています。最終行でそれらをまとめて表示しています。"
      ]
    },
    {
      "metadata": {
        "id": "K_IailZQHpeM",
        "colab_type": "code",
        "colab": {
          "base_uri": "https://localhost:8080/",
          "height": 34
        },
        "outputId": "fd634223-b400-468a-adc0-d2532605df5a"
      },
      "cell_type": "code",
      "source": [
        "# 条件制御のためのブールの配列\n",
        "cond_data = np.array([True,True,False,False,True])\n",
        "\n",
        "# 上記より、配列の1番目（1）、2番目（2）、5番目（5）の数字が出されます。\n",
        "x_array= np.array([1,2,3,4,5])\n",
        "\n",
        "# 上記より、配列の3番目（8）、4番目（9）の数字が出されます。\n",
        "y_array= np.array([6,7,8,9,10])\n",
        "\n",
        "# 条件制御実施\n",
        "print(np.where(cond_data,x_array,y_array))"
      ],
      "execution_count": 9,
      "outputs": [
        {
          "output_type": "stream",
          "text": [
            "[1 2 8 9 5]\n"
          ],
          "name": "stdout"
        }
      ]
    },
    {
      "metadata": {
        "id": "uwenjAH0HpeQ",
        "colab_type": "text"
      },
      "cell_type": "markdown",
      "source": [
        "#### <練習問題 1>\n",
        "\n",
        "上記データのsample_namesのbに該当するdataを抽出してください。"
      ]
    },
    {
      "metadata": {
        "id": "VLi7O6fuHpeR",
        "colab_type": "text"
      },
      "cell_type": "markdown",
      "source": [
        "#### <練習問題 2>\n",
        "\n",
        "上記データのsample_namesのc以外に該当するdataを抽出してください。"
      ]
    },
    {
      "metadata": {
        "id": "9v7YwM0HHpeT",
        "colab_type": "text"
      },
      "cell_type": "markdown",
      "source": [
        "#### <練習問題 3>\n",
        "\n",
        "上記のcond_dataを変更して、x_arrayの3番目と4番目、y_arrayの1番、2番、5番目を出すように、条件制御を実施してください。"
      ]
    },
    {
      "metadata": {
        "id": "xxrgrep7HpeU",
        "colab_type": "text"
      },
      "cell_type": "markdown",
      "source": [
        "### 5.2.2 Numpyの演算処理\n",
        "キーワード：ユニバーサル関数"
      ]
    },
    {
      "metadata": {
        "id": "uFaavtVhHpeV",
        "colab_type": "text"
      },
      "cell_type": "markdown",
      "source": [
        "ここでは、Numpyの演算処理について学びます。次は、uniqueを使って重複を削除しています。"
      ]
    },
    {
      "metadata": {
        "scrolled": true,
        "id": "ZIVvCKW3HpeX",
        "colab_type": "code",
        "colab": {
          "base_uri": "https://localhost:8080/",
          "height": 71
        },
        "outputId": "34468b12-8d2f-42cf-85dd-e2fed2af19fb"
      },
      "cell_type": "code",
      "source": [
        "# 重複あり\n",
        "print(cond_data)\n",
        "\n",
        "# 重複削除\n",
        "print(np.unique(cond_data))"
      ],
      "execution_count": 10,
      "outputs": [
        {
          "output_type": "stream",
          "text": [
            "[ True  True False False  True]\n",
            "[False  True]\n"
          ],
          "name": "stdout"
        }
      ]
    },
    {
      "metadata": {
        "id": "KhJ641NxHpeb",
        "colab_type": "text"
      },
      "cell_type": "markdown",
      "source": [
        "次に、ユニバーサル関数です。すべての要素に関数を適応することができます。具体的には、以下では、平方根計算を1つ1つの要素で計算しています。"
      ]
    },
    {
      "metadata": {
        "id": "zAEz9OlYHpec",
        "colab_type": "code",
        "colab": {
          "base_uri": "https://localhost:8080/",
          "height": 88
        },
        "outputId": "608bdf13-beb7-4f6c-9679-02872e4e8921"
      },
      "cell_type": "code",
      "source": [
        "# ユニバーサル関数\n",
        "sample_data = np.arange(10)\n",
        "print(\"すべての要素に平方根：\",np.sqrt(sample_data))\n",
        "print(\"すべての要素にExp：\",np.exp(sample_data))"
      ],
      "execution_count": 11,
      "outputs": [
        {
          "output_type": "stream",
          "text": [
            "すべての要素に平方根： [0.    1.    1.414 1.732 2.    2.236 2.449 2.646 2.828 3.   ]\n",
            "すべての要素にExp： [1.000e+00 2.718e+00 7.389e+00 2.009e+01 5.460e+01 1.484e+02 4.034e+02\n",
            " 1.097e+03 2.981e+03 8.103e+03]\n"
          ],
          "name": "stdout"
        }
      ]
    },
    {
      "metadata": {
        "id": "N6B-keRdHpee",
        "colab_type": "text"
      },
      "cell_type": "markdown",
      "source": [
        "Pandasでも実施しましたが、Numpyでも平均や最大値等の計算ができます。axisで行か列の指定が可能です。"
      ]
    },
    {
      "metadata": {
        "id": "LvW_W_XrHpef",
        "colab_type": "code",
        "colab": {
          "base_uri": "https://localhost:8080/",
          "height": 173
        },
        "outputId": "5fd9728c-bb6c-4571-d26e-1d71036d7d10"
      },
      "cell_type": "code",
      "source": [
        "# 統計関数（PandasでやったがNumpyでもできる、列、行の指定なども）\n",
        "sample_multi_array_data1 = np.arange(9).reshape(3,3)\n",
        "\n",
        "print(sample_multi_array_data1)\n",
        "\n",
        "print(\"平均:\",sample_multi_array_data1.mean())\n",
        "print(\"最大値:\",sample_multi_array_data1.max())\n",
        "print(\"合計:\",sample_multi_array_data1.sum())\n",
        "\n",
        "# 行列の指定\n",
        "print(\"行の合計:\",sample_multi_array_data1.sum(axis=1))\n",
        "print(\"列の合計:\",sample_multi_array_data1.sum(axis=0))"
      ],
      "execution_count": 12,
      "outputs": [
        {
          "output_type": "stream",
          "text": [
            "[[0 1 2]\n",
            " [3 4 5]\n",
            " [6 7 8]]\n",
            "平均: 4.0\n",
            "最大値: 8\n",
            "合計: 36\n",
            "行の合計: [ 3 12 21]\n",
            "列の合計: [ 9 12 15]\n"
          ],
          "name": "stdout"
        }
      ]
    },
    {
      "metadata": {
        "id": "U0qPvcFWHpei",
        "colab_type": "text"
      },
      "cell_type": "markdown",
      "source": [
        "次は、真偽を判定したり、判定後の集計を実装しています。anyはいずれか少なくとも1つ満たすものがあればTrue、allはすべて満たす場合にTrueです。"
      ]
    },
    {
      "metadata": {
        "id": "wVBgrF4gHpej",
        "colab_type": "code",
        "colab": {
          "base_uri": "https://localhost:8080/",
          "height": 88
        },
        "outputId": "47f91cb7-f613-43ce-ec96-01b7061952c1"
      },
      "cell_type": "code",
      "source": [
        "# 真偽値の配列関数\n",
        "print(\"Trueが少なくとも１つあるかどうか:\",cond_data.any())\n",
        "print(\"すべてTrueかどうか:\",cond_data.all())\n",
        "print(\"5より大きい数字がいくつあるか:\",(sample_multi_array_data1>5).sum())"
      ],
      "execution_count": 13,
      "outputs": [
        {
          "output_type": "stream",
          "text": [
            "Trueが少なくとも１つあるかどうか: True\n",
            "すべてTrueかどうか: False\n",
            "5より大きい数字がいくつあるか: 3\n"
          ],
          "name": "stdout"
        }
      ]
    },
    {
      "metadata": {
        "id": "SwHVo1KfHpel",
        "colab_type": "text"
      },
      "cell_type": "markdown",
      "source": [
        "最後に、行列の対角成分（行と列が同じ要素全て）の表示と和を計算しています。"
      ]
    },
    {
      "metadata": {
        "id": "Zo2c-KtIHpem",
        "colab_type": "code",
        "colab": {
          "base_uri": "https://localhost:8080/",
          "height": 71
        },
        "outputId": "dadb01fd-1985-4b87-8efd-281224fd3ecd"
      },
      "cell_type": "code",
      "source": [
        "# 行列計算\n",
        "print(\"対角成分:\",np.diag(sample_multi_array_data1))\n",
        "print(\"対角成分の和:\",np.trace(sample_multi_array_data1))"
      ],
      "execution_count": 14,
      "outputs": [
        {
          "output_type": "stream",
          "text": [
            "対角成分: [0 4 8]\n",
            "対角成分の和: 12\n"
          ],
          "name": "stdout"
        }
      ]
    },
    {
      "metadata": {
        "id": "oEEJuyqXHpep",
        "colab_type": "text"
      },
      "cell_type": "markdown",
      "source": [
        "#### <練習問題 1>\n",
        "\n",
        "以下のデータに対して、すべての要素の平方根を計算した行列を表示してください。"
      ]
    },
    {
      "metadata": {
        "id": "cdQ4f7W5Hper",
        "colab_type": "code",
        "colab": {
          "base_uri": "https://localhost:8080/",
          "height": 105
        },
        "outputId": "6ee01610-1182-459f-c77c-c4fd84f7bd27"
      },
      "cell_type": "code",
      "source": [
        "sample_multi_array_data2 = np.arange(16).reshape(4,4)\n",
        "sample_multi_array_data2 "
      ],
      "execution_count": 15,
      "outputs": [
        {
          "output_type": "execute_result",
          "data": {
            "text/plain": [
              "array([[ 0,  1,  2,  3],\n",
              "       [ 4,  5,  6,  7],\n",
              "       [ 8,  9, 10, 11],\n",
              "       [12, 13, 14, 15]])"
            ]
          },
          "metadata": {
            "tags": []
          },
          "execution_count": 15
        }
      ]
    },
    {
      "metadata": {
        "id": "fikAy-GqHpeu",
        "colab_type": "text"
      },
      "cell_type": "markdown",
      "source": [
        "#### <練習問題 2>\n",
        "\n",
        "上記のデータsample_multi_array_data2の最大値、最小値、合計値、平均値を求めてください。"
      ]
    },
    {
      "metadata": {
        "id": "sqsz02TRHpev",
        "colab_type": "text"
      },
      "cell_type": "markdown",
      "source": [
        "#### <練習問題 3>\n",
        "\n",
        "上記のデータsample_multi_array_data2の対角成分の和を求めてください。"
      ]
    },
    {
      "metadata": {
        "id": "ITVnlBcuHpew",
        "colab_type": "text"
      },
      "cell_type": "markdown",
      "source": [
        "### 5.2.3 配列操作とブロードキャスト\n",
        "キーワード：再形成、結合と分割、リピート、ブロードキャスト"
      ]
    },
    {
      "metadata": {
        "id": "tFqDzKVwHpex",
        "colab_type": "text"
      },
      "cell_type": "markdown",
      "source": [
        "Numpyでは再形成といって、行列の次元を変更することが可能です。"
      ]
    },
    {
      "metadata": {
        "id": "fOXhs0udHpex",
        "colab_type": "code",
        "colab": {
          "base_uri": "https://localhost:8080/",
          "height": 54
        },
        "outputId": "74158e20-3f28-4f34-adc0-384cc0f6b26a"
      },
      "cell_type": "code",
      "source": [
        "# データの準備\n",
        "sample_array = np.arange(10)\n",
        "sample_array"
      ],
      "execution_count": 16,
      "outputs": [
        {
          "output_type": "execute_result",
          "data": {
            "text/plain": [
              "array([0, 1, 2, 3, 4, 5, 6, 7, 8, 9])"
            ]
          },
          "metadata": {
            "tags": []
          },
          "execution_count": 16
        }
      ]
    },
    {
      "metadata": {
        "id": "nxLOwQoJHpe0",
        "colab_type": "text"
      },
      "cell_type": "markdown",
      "source": [
        "reshapeを使うことで、次のように変更できます。"
      ]
    },
    {
      "metadata": {
        "id": "e9c4-TJ7Hpe1",
        "colab_type": "code",
        "colab": {
          "base_uri": "https://localhost:8080/",
          "height": 71
        },
        "outputId": "9f20cab9-73ad-412d-f1bc-5b1a6eea8e49"
      },
      "cell_type": "code",
      "source": [
        "# 再形成\n",
        "sample_array2 = sample_array.reshape(2,5)\n",
        "sample_array2"
      ],
      "execution_count": 17,
      "outputs": [
        {
          "output_type": "execute_result",
          "data": {
            "text/plain": [
              "array([[0, 1, 2, 3, 4],\n",
              "       [5, 6, 7, 8, 9]])"
            ]
          },
          "metadata": {
            "tags": []
          },
          "execution_count": 17
        }
      ]
    },
    {
      "metadata": {
        "id": "NLQGreYiHpe4",
        "colab_type": "code",
        "colab": {
          "base_uri": "https://localhost:8080/",
          "height": 122
        },
        "outputId": "5e334b82-1697-432f-e3a0-bebb3de9ee29"
      },
      "cell_type": "code",
      "source": [
        "sample_array2.reshape(5,2)"
      ],
      "execution_count": 18,
      "outputs": [
        {
          "output_type": "execute_result",
          "data": {
            "text/plain": [
              "array([[0, 1],\n",
              "       [2, 3],\n",
              "       [4, 5],\n",
              "       [6, 7],\n",
              "       [8, 9]])"
            ]
          },
          "metadata": {
            "tags": []
          },
          "execution_count": 18
        }
      ]
    },
    {
      "metadata": {
        "id": "ohSpdHF6Hpe7",
        "colab_type": "text"
      },
      "cell_type": "markdown",
      "source": [
        "concatenateを使って、データの結合することが可能です。axisで行方向か、縦方向を指定できす。以下は0で行方向に結合しています。"
      ]
    },
    {
      "metadata": {
        "id": "G3Sa0rAkHpe8",
        "colab_type": "code",
        "colab": {
          "base_uri": "https://localhost:8080/",
          "height": 105
        },
        "outputId": "abff2360-9029-4300-a102-f24055b6de6c"
      },
      "cell_type": "code",
      "source": [
        "#　データの準備\n",
        "sample_array3 = np.array([[1,2,3],[4,5,6]])\n",
        "sample_array4 = np.array([[7,8,9],[10,11,12]])\n",
        "\n",
        "# 行方向に結合\n",
        "np.concatenate([sample_array3,sample_array4],axis=0)"
      ],
      "execution_count": 19,
      "outputs": [
        {
          "output_type": "execute_result",
          "data": {
            "text/plain": [
              "array([[ 1,  2,  3],\n",
              "       [ 4,  5,  6],\n",
              "       [ 7,  8,  9],\n",
              "       [10, 11, 12]])"
            ]
          },
          "metadata": {
            "tags": []
          },
          "execution_count": 19
        }
      ]
    },
    {
      "metadata": {
        "id": "H4ws3XphHpe_",
        "colab_type": "text"
      },
      "cell_type": "markdown",
      "source": [
        "vstackでも行方向の結合が可能です。"
      ]
    },
    {
      "metadata": {
        "id": "_OkvT8WcHpfA",
        "colab_type": "code",
        "colab": {
          "base_uri": "https://localhost:8080/",
          "height": 105
        },
        "outputId": "1bc45dfc-e645-4581-8d91-404fe01e9616"
      },
      "cell_type": "code",
      "source": [
        "# 行方向結合の他の方法\n",
        "np.vstack((sample_array3,sample_array4))"
      ],
      "execution_count": 20,
      "outputs": [
        {
          "output_type": "execute_result",
          "data": {
            "text/plain": [
              "array([[ 1,  2,  3],\n",
              "       [ 4,  5,  6],\n",
              "       [ 7,  8,  9],\n",
              "       [10, 11, 12]])"
            ]
          },
          "metadata": {
            "tags": []
          },
          "execution_count": 20
        }
      ]
    },
    {
      "metadata": {
        "id": "53bJpr8mHpfC",
        "colab_type": "text"
      },
      "cell_type": "markdown",
      "source": [
        "列方向はaxisに1を設定します。"
      ]
    },
    {
      "metadata": {
        "id": "9YzlrJ-2HpfD",
        "colab_type": "code",
        "colab": {
          "base_uri": "https://localhost:8080/",
          "height": 71
        },
        "outputId": "2fcce0eb-465f-4d9c-967c-42bb87efb48a"
      },
      "cell_type": "code",
      "source": [
        "# 列方向に結合\n",
        "np.concatenate([sample_array3,sample_array4],axis=1)"
      ],
      "execution_count": 21,
      "outputs": [
        {
          "output_type": "execute_result",
          "data": {
            "text/plain": [
              "array([[ 1,  2,  3,  7,  8,  9],\n",
              "       [ 4,  5,  6, 10, 11, 12]])"
            ]
          },
          "metadata": {
            "tags": []
          },
          "execution_count": 21
        }
      ]
    },
    {
      "metadata": {
        "id": "_SsAVlC9HpfH",
        "colab_type": "text"
      },
      "cell_type": "markdown",
      "source": [
        "hstackで列方向の結合が可能です。"
      ]
    },
    {
      "metadata": {
        "id": "w4r-TSr9HpfI",
        "colab_type": "code",
        "colab": {
          "base_uri": "https://localhost:8080/",
          "height": 71
        },
        "outputId": "8aa19114-083f-4fe0-89a5-29a0ddd5bf5e"
      },
      "cell_type": "code",
      "source": [
        "# 列方向結合の他の方法\n",
        "np.hstack((sample_array3,sample_array4))"
      ],
      "execution_count": 22,
      "outputs": [
        {
          "output_type": "execute_result",
          "data": {
            "text/plain": [
              "array([[ 1,  2,  3,  7,  8,  9],\n",
              "       [ 4,  5,  6, 10, 11, 12]])"
            ]
          },
          "metadata": {
            "tags": []
          },
          "execution_count": 22
        }
      ]
    },
    {
      "metadata": {
        "id": "-OlI7mhWHpfM",
        "colab_type": "text"
      },
      "cell_type": "markdown",
      "source": [
        "次は、配列の分割です。splitで分割をします。"
      ]
    },
    {
      "metadata": {
        "id": "jGEzubgeHpfN",
        "colab_type": "text"
      },
      "cell_type": "markdown",
      "source": [
        ">[参考URL]\n",
        "\n",
        ">https://docs.scipy.org/doc/numpy/reference/generated/numpy.split.html"
      ]
    },
    {
      "metadata": {
        "id": "Feeqt1SjHpfP",
        "colab_type": "code",
        "colab": {}
      },
      "cell_type": "code",
      "source": [
        "# データの用意\n",
        "sample_array_vstack = np.vstack((sample_array3,sample_array4))\n",
        "\n",
        "# 分割([1,3]は、上記参考URLのindices_or_sections を参照\n",
        "first,second,third=np.split(sample_array_vstack,[1,3])"
      ],
      "execution_count": 0,
      "outputs": []
    },
    {
      "metadata": {
        "id": "Sq-0A6OgHpfR",
        "colab_type": "code",
        "colab": {
          "base_uri": "https://localhost:8080/",
          "height": 105
        },
        "outputId": "51cc3c0c-c8d0-45c9-bddb-32f9d6594172"
      },
      "cell_type": "code",
      "source": [
        "# 元のデータ\n",
        "sample_array_vstack"
      ],
      "execution_count": 24,
      "outputs": [
        {
          "output_type": "execute_result",
          "data": {
            "text/plain": [
              "array([[ 1,  2,  3],\n",
              "       [ 4,  5,  6],\n",
              "       [ 7,  8,  9],\n",
              "       [10, 11, 12]])"
            ]
          },
          "metadata": {
            "tags": []
          },
          "execution_count": 24
        }
      ]
    },
    {
      "metadata": {
        "id": "MmXqkzMtHpfT",
        "colab_type": "text"
      },
      "cell_type": "markdown",
      "source": [
        "[1,3]でパラメータを設定しており、これをベースに分割します。具体的には~1(1の手前全て)、1~3(1から3の手前のみ)、3~(3以降全て)のインデックスで取り出しています。"
      ]
    },
    {
      "metadata": {
        "id": "TFTLg6DqHpfU",
        "colab_type": "code",
        "colab": {
          "base_uri": "https://localhost:8080/",
          "height": 54
        },
        "outputId": "c5631cf7-29cb-4c24-814e-b316d8c7256d"
      },
      "cell_type": "code",
      "source": [
        "# 分割後1\n",
        "print(first)"
      ],
      "execution_count": 25,
      "outputs": [
        {
          "output_type": "stream",
          "text": [
            "[[1 2 3]]\n"
          ],
          "name": "stdout"
        }
      ]
    },
    {
      "metadata": {
        "id": "Fj0J1Rq2HpfX",
        "colab_type": "code",
        "colab": {
          "base_uri": "https://localhost:8080/",
          "height": 71
        },
        "outputId": "b1a171fb-5b5c-42f9-9d61-446496455a89"
      },
      "cell_type": "code",
      "source": [
        "# 分割後2\n",
        "print(second)"
      ],
      "execution_count": 26,
      "outputs": [
        {
          "output_type": "stream",
          "text": [
            "[[4 5 6]\n",
            " [7 8 9]]\n"
          ],
          "name": "stdout"
        }
      ]
    },
    {
      "metadata": {
        "id": "2t0us4woHpfb",
        "colab_type": "code",
        "colab": {
          "base_uri": "https://localhost:8080/",
          "height": 54
        },
        "outputId": "700c3d4a-0a9b-44ae-eaa8-11ecc7e36300"
      },
      "cell_type": "code",
      "source": [
        "second[0]"
      ],
      "execution_count": 27,
      "outputs": [
        {
          "output_type": "execute_result",
          "data": {
            "text/plain": [
              "array([4, 5, 6])"
            ]
          },
          "metadata": {
            "tags": []
          },
          "execution_count": 27
        }
      ]
    },
    {
      "metadata": {
        "id": "z9IWBuFWHpfh",
        "colab_type": "code",
        "colab": {
          "base_uri": "https://localhost:8080/",
          "height": 54
        },
        "outputId": "7dd07aa9-8b72-4f70-f029-f9911f71fce8"
      },
      "cell_type": "code",
      "source": [
        "# 分割後3\n",
        "print(third)"
      ],
      "execution_count": 28,
      "outputs": [
        {
          "output_type": "stream",
          "text": [
            "[[10 11 12]]\n"
          ],
          "name": "stdout"
        }
      ]
    },
    {
      "metadata": {
        "id": "Tru_x1txHpfi",
        "colab_type": "text"
      },
      "cell_type": "markdown",
      "source": [
        "これは若干わかりにくいので、もう1つ例をあげます。新しくデータを追加して、分割した例を見てみましょう。"
      ]
    },
    {
      "metadata": {
        "id": "RREPD8PKHpfj",
        "colab_type": "code",
        "colab": {}
      },
      "cell_type": "code",
      "source": [
        "# データの用意\n",
        "sample_array5 = np.array([[13,14,15],[16,17,18],[19,20,21]])\n",
        "sample_array_vstack2 = np.vstack((sample_array3,sample_array4,sample_array5))\n",
        "\n",
        "# 分割パラメータは[2,3,5]なので、~1,2,3~4,5~の4つになります。\n",
        "first,second,third,fourth=np.split(sample_array_vstack2,[2,3,5])"
      ],
      "execution_count": 0,
      "outputs": []
    },
    {
      "metadata": {
        "id": "75vquus3Hpfl",
        "colab_type": "code",
        "colab": {
          "base_uri": "https://localhost:8080/",
          "height": 292
        },
        "outputId": "1196ddff-6c19-49d2-90ce-0ecbc9c0d354"
      },
      "cell_type": "code",
      "source": [
        "print(\"・1つ目：\\n\",first,'\\n')\n",
        "print(\"・2つ目：\\n\",second,'\\n')\n",
        "print(\"・3つ目：\\n\",third,'\\n')\n",
        "print(\"・4つ目：\\n\",fourth,'\\n')"
      ],
      "execution_count": 30,
      "outputs": [
        {
          "output_type": "stream",
          "text": [
            "・1つ目：\n",
            " [[1 2 3]\n",
            " [4 5 6]] \n",
            "\n",
            "・2つ目：\n",
            " [[7 8 9]] \n",
            "\n",
            "・3つ目：\n",
            " [[10 11 12]\n",
            " [13 14 15]] \n",
            "\n",
            "・4つ目：\n",
            " [[16 17 18]\n",
            " [19 20 21]] \n",
            "\n"
          ],
          "name": "stdout"
        }
      ]
    },
    {
      "metadata": {
        "id": "03ezHS2mHpfo",
        "colab_type": "text"
      },
      "cell_type": "markdown",
      "source": [
        "要素を取り出すと以下のようになります。"
      ]
    },
    {
      "metadata": {
        "id": "wciuT6afHpfo",
        "colab_type": "code",
        "colab": {
          "base_uri": "https://localhost:8080/",
          "height": 54
        },
        "outputId": "ef91457c-7eff-4bfd-94e4-f99c98be856a"
      },
      "cell_type": "code",
      "source": [
        "first[0]"
      ],
      "execution_count": 31,
      "outputs": [
        {
          "output_type": "execute_result",
          "data": {
            "text/plain": [
              "array([1, 2, 3])"
            ]
          },
          "metadata": {
            "tags": []
          },
          "execution_count": 31
        }
      ]
    },
    {
      "metadata": {
        "id": "OEGdY_zoHpfr",
        "colab_type": "code",
        "colab": {
          "base_uri": "https://localhost:8080/",
          "height": 54
        },
        "outputId": "4c9a141c-7938-4d01-8836-695f1dce9cf2"
      },
      "cell_type": "code",
      "source": [
        "first[1]"
      ],
      "execution_count": 32,
      "outputs": [
        {
          "output_type": "execute_result",
          "data": {
            "text/plain": [
              "array([4, 5, 6])"
            ]
          },
          "metadata": {
            "tags": []
          },
          "execution_count": 32
        }
      ]
    },
    {
      "metadata": {
        "id": "Kvs6p21dHpfu",
        "colab_type": "text"
      },
      "cell_type": "markdown",
      "source": [
        "次は、繰り返し処理です。repeatで各要素が繰り返し表示されます。"
      ]
    },
    {
      "metadata": {
        "id": "PYs8j-f4Hpfu",
        "colab_type": "code",
        "colab": {
          "base_uri": "https://localhost:8080/",
          "height": 71
        },
        "outputId": "fdfe5c64-aabd-47ba-f12f-5159545ccdde"
      },
      "cell_type": "code",
      "source": [
        "# リピート,各要素が繰り返される\n",
        "first.repeat(5)"
      ],
      "execution_count": 33,
      "outputs": [
        {
          "output_type": "execute_result",
          "data": {
            "text/plain": [
              "array([1, 1, 1, 1, 1, 2, 2, 2, 2, 2, 3, 3, 3, 3, 3, 4, 4, 4, 4, 4, 5, 5,\n",
              "       5, 5, 5, 6, 6, 6, 6, 6])"
            ]
          },
          "metadata": {
            "tags": []
          },
          "execution_count": 33
        }
      ]
    },
    {
      "metadata": {
        "id": "VbC7mIMHHpfy",
        "colab_type": "text"
      },
      "cell_type": "markdown",
      "source": [
        "最後に、**ブロードキャスト**です。これは、配列の大きさが異なっていれば、自動的に要素をコピーして大きさを揃える機能です。まずは0から9までのデータを準備します。"
      ]
    },
    {
      "metadata": {
        "id": "SvhZAUqOHpfz",
        "colab_type": "code",
        "colab": {
          "base_uri": "https://localhost:8080/",
          "height": 54
        },
        "outputId": "be5ace58-f7a9-414a-f097-d7f962c29539"
      },
      "cell_type": "code",
      "source": [
        "# データの準備\n",
        "sample_array = np.arange(10)\n",
        "print(sample_array)"
      ],
      "execution_count": 34,
      "outputs": [
        {
          "output_type": "stream",
          "text": [
            "[0 1 2 3 4 5 6 7 8 9]\n"
          ],
          "name": "stdout"
        }
      ]
    },
    {
      "metadata": {
        "id": "nk7PBS_VHpf1",
        "colab_type": "text"
      },
      "cell_type": "markdown",
      "source": [
        "次は、上記の配列に「3」を足す計算をしているのですが、要素をコピーして大きさを揃えて、配列の全ての要素に3を加えているのがわかります。sample_array + 3はsample_array + np.array([3,3,3,3,3,3,3,3,3,3])と同じ結果になります。"
      ]
    },
    {
      "metadata": {
        "id": "u8ywTLRwHpf2",
        "colab_type": "code",
        "colab": {
          "base_uri": "https://localhost:8080/",
          "height": 54
        },
        "outputId": "ded3dc1e-000e-4a27-ab82-bda4b9c7f0e1"
      },
      "cell_type": "code",
      "source": [
        "sample_array + 3"
      ],
      "execution_count": 35,
      "outputs": [
        {
          "output_type": "execute_result",
          "data": {
            "text/plain": [
              "array([ 3,  4,  5,  6,  7,  8,  9, 10, 11, 12])"
            ]
          },
          "metadata": {
            "tags": []
          },
          "execution_count": 35
        }
      ]
    },
    {
      "metadata": {
        "id": "iKEc4AfuHpf4",
        "colab_type": "text"
      },
      "cell_type": "markdown",
      "source": [
        "以上で、Numpyの単元は終了します。Numpyは他のライブラリーのベースとなっており、ここで紹介したテクニック以外にも、色々なデータハンドリングや概念があるので、上記の参考文献や以下のURLなどを参考にしてください。"
      ]
    },
    {
      "metadata": {
        "id": "WqKRuKIdHpf5",
        "colab_type": "text"
      },
      "cell_type": "markdown",
      "source": [
        ">[参考URL]\n",
        "\n",
        ">Numpy：https://docs.scipy.org/doc/numpy-dev/user/quickstart.html"
      ]
    },
    {
      "metadata": {
        "id": "mFZCAGjNHpf5",
        "colab_type": "text"
      },
      "cell_type": "markdown",
      "source": [
        "#### <練習問題 1>\n",
        "\n",
        "次の2つの配列に対して、縦に結合してみましょう。"
      ]
    },
    {
      "metadata": {
        "id": "kn-MPdupHpf5",
        "colab_type": "code",
        "colab": {}
      },
      "cell_type": "code",
      "source": [
        "# データの準備\n",
        "sample_array1 = np.arange(12).reshape(3,4)\n",
        "sample_array2 = np.arange(12).reshape(3,4)"
      ],
      "execution_count": 0,
      "outputs": []
    },
    {
      "metadata": {
        "id": "J7z5rIPnHpf7",
        "colab_type": "text"
      },
      "cell_type": "markdown",
      "source": [
        "#### <練習問題 2>\n",
        "\n",
        "上記の2つの配列に対して、横に結合してみましょう。"
      ]
    },
    {
      "metadata": {
        "id": "DfdghgIpHpf7",
        "colab_type": "text"
      },
      "cell_type": "markdown",
      "source": [
        "#### <練習問題 3>\n",
        "\n",
        "普通の以下のリストの各要素に3を加えるためにはどうすればよいでしょうか。Numpyのブロードキャスト機能を使ってください。"
      ]
    },
    {
      "metadata": {
        "id": "J3hlHYXZHpf8",
        "colab_type": "code",
        "colab": {}
      },
      "cell_type": "code",
      "source": [
        "sample_list = [1,2,3,4,5]"
      ],
      "execution_count": 0,
      "outputs": []
    },
    {
      "metadata": {
        "id": "IKpZ6XAXHpf-",
        "colab_type": "text"
      },
      "cell_type": "markdown",
      "source": [
        "***"
      ]
    },
    {
      "metadata": {
        "id": "ToCJxT-0Hpf_",
        "colab_type": "text"
      },
      "cell_type": "markdown",
      "source": [
        "## 5.3 Scipy\n",
        "ゴール：Scipyで様々な科学計算（補間処理、積分、行列計算など）を知って、基本的な実装ができるようになる"
      ]
    },
    {
      "metadata": {
        "id": "jr3fly76Hpf_",
        "colab_type": "text"
      },
      "cell_type": "markdown",
      "source": [
        "### 5.3.1 補間\n",
        "キーワード：線形補間、スプライン補間、interpolate"
      ]
    },
    {
      "metadata": {
        "id": "M_pfs5PwHpgB",
        "colab_type": "text"
      },
      "cell_type": "markdown",
      "source": [
        "ここでは科学計算で活用されるScipyの使い方について学びます。補間や行列計算、積分計算、最適化（線形計画法の一部）を扱っていきます。他には高速フーリエ変換、信号処理、画像処理も計算することができます。もし、これらのアプローチを取る機会があれば、ぜひScipyの使用を検討してみてください。なお、冒頭にも述べたように、これらの分野を全く学んでない方は、こんな方法があるんだなと思うだけでよいので、適宜飛ばしてください。\n",
        "\n",
        "参考文献としては、上記のNumpyで紹介した文献のScipyを扱った章や、以下のURLを参考にしてください。"
      ]
    },
    {
      "metadata": {
        "id": "TWQvp2vYHpgB",
        "colab_type": "text"
      },
      "cell_type": "markdown",
      "source": [
        ">[参考URL]\n",
        "\n",
        ">Scipy：https://www.scipy.org"
      ]
    },
    {
      "metadata": {
        "id": "CJZ9IJMyHpgC",
        "colab_type": "text"
      },
      "cell_type": "markdown",
      "source": [
        "まずは、補間計算です。以下のコードを実行して、グラフを描画してみましょう。"
      ]
    },
    {
      "metadata": {
        "scrolled": false,
        "id": "W4k8bE4xHpgC",
        "colab_type": "code",
        "colab": {
          "base_uri": "https://localhost:8080/",
          "height": 285
        },
        "outputId": "dd4f00cc-01cd-440a-fd17-1d6602305d8a"
      },
      "cell_type": "code",
      "source": [
        "x = np.linspace(0, 10, num=11, endpoint=True)\n",
        "y = np.cos(-x**2/5.0)\n",
        "plt.plot(x,y,'o')\n",
        "plt.grid(True)"
      ],
      "execution_count": 38,
      "outputs": [
        {
          "output_type": "display_data",
          "data": {
            "image/png": "[encoded data removed]",
            "text/plain": [
              "<Figure size 432x288 with 1 Axes>"
            ]
          },
          "metadata": {
            "tags": []
          }
        }
      ]
    },
    {
      "metadata": {
        "id": "HYbIlZBVHpgE",
        "colab_type": "text"
      },
      "cell_type": "markdown",
      "source": [
        "左から順に点をたどっていくと、これは何かの曲線を表しているようにも見えます（もちろん、コード見ていただければわかる通り、cosの関数を使って描いています。しかし今回はわからないということにしてください）。ところで、xが4.5など、実点と実点の間にあるxに対応するyはどのような値になるのでしょうか？これを考えるのが補間計算です。scipyでは、1次元データに対する補間はinterp1dが用意されており、以下のように記述します。"
      ]
    },
    {
      "metadata": {
        "id": "HRwVlNQXHpgE",
        "colab_type": "code",
        "colab": {
          "base_uri": "https://localhost:8080/",
          "height": 285
        },
        "outputId": "1355469c-8ce2-4ea0-b5d0-1b8d4f09b088"
      },
      "cell_type": "code",
      "source": [
        "from scipy import interpolate\n",
        "\n",
        "# 線形補間\n",
        "f = interpolate.interp1d(x, y,'linear')\n",
        "plt.plot(x,f(x),'-')\n",
        "plt.grid(True)"
      ],
      "execution_count": 39,
      "outputs": [
        {
          "output_type": "display_data",
          "data": {
            "image/png": "[encoded data removed]",
            "text/plain": [
              "<Figure size 432x288 with 1 Axes>"
            ]
          },
          "metadata": {
            "tags": []
          }
        }
      ]
    },
    {
      "metadata": {
        "id": "7ooirtr7HpgG",
        "colab_type": "text"
      },
      "cell_type": "markdown",
      "source": [
        "次は、スプライン3次補間も加えて、グラフを見てみましょう。"
      ]
    },
    {
      "metadata": {
        "id": "igzG9_9MHpgG",
        "colab_type": "code",
        "colab": {
          "base_uri": "https://localhost:8080/",
          "height": 285
        },
        "outputId": "78a826a4-56cc-4cb2-b504-0da2e353a6c3"
      },
      "cell_type": "code",
      "source": [
        "# スプライン3次補間も加えて、まとめてみる、\n",
        "f2 = interpolate.interp1d(x, y,'cubic')\n",
        "\n",
        "#曲線を出すために、xの値を細かくする。\n",
        "xnew = np.linspace(0, 10, num=30, endpoint=True)\n",
        "\n",
        "# グラフ化\n",
        "plt.plot(x, y, 'o', xnew, f(xnew), '-', xnew, f2(xnew), '--')\n",
        "\n",
        "# 凡例\n",
        "plt.legend(['data', 'linear', 'cubic'], loc='best')\n",
        "plt.grid(True)"
      ],
      "execution_count": 40,
      "outputs": [
        {
          "output_type": "display_data",
          "data": {
            "image/png": "[encoded data removed]",
            "text/plain": [
              "<Figure size 432x288 with 1 Axes>"
            ]
          },
          "metadata": {
            "tags": []
          }
        }
      ]
    },
    {
      "metadata": {
        "id": "KSXxbNJdHpgI",
        "colab_type": "text"
      },
      "cell_type": "markdown",
      "source": [
        "ただし、あくまでこの補間した曲線は現在のデータ全てを利用して曲線を引いており、これが新しい未知のデータに対して当てはまるとは限りません。このことは後の機械学習の章で学んでいきます。"
      ]
    },
    {
      "metadata": {
        "id": "5eNU-nh2HpgI",
        "colab_type": "text"
      },
      "cell_type": "markdown",
      "source": [
        ">[参考URL]\n",
        "\n",
        ">Scipyの補間計算：https://docs.scipy.org/doc/scipy/reference/tutorial/interpolate.html"
      ]
    },
    {
      "metadata": {
        "id": "N1GXXFiJHpgJ",
        "colab_type": "text"
      },
      "cell_type": "markdown",
      "source": [
        "#### <練習問題 1>\n",
        "\n",
        "以下のデータに対して、線形補間の計算をして、グラフを描いてください。"
      ]
    },
    {
      "metadata": {
        "id": "iFgBtslSHpgJ",
        "colab_type": "code",
        "colab": {
          "base_uri": "https://localhost:8080/",
          "height": 285
        },
        "outputId": "528a0b8f-adb0-4c35-ae92-01deef643423"
      },
      "cell_type": "code",
      "source": [
        "x = np.linspace(0, 10, num=11, endpoint=True)\n",
        "y = np.sin(x**2/5.0)\n",
        "plt.plot(x,y,'o')\n",
        "plt.grid(True)"
      ],
      "execution_count": 41,
      "outputs": [
        {
          "output_type": "display_data",
          "data": {
            "image/png": "[encoded data removed]",
            "text/plain": [
              "<Figure size 432x288 with 1 Axes>"
            ]
          },
          "metadata": {
            "tags": []
          }
        }
      ]
    },
    {
      "metadata": {
        "id": "IxpWgJ9WHpgM",
        "colab_type": "text"
      },
      "cell_type": "markdown",
      "source": [
        "#### <練習問題 2>\n",
        "\n",
        "2次元のスプライン補間をして上記のグラフに書き込んでください(2次元のスプライン補間はパラメタをquadraticとします。)"
      ]
    },
    {
      "metadata": {
        "id": "Uwip02NZHpgN",
        "colab_type": "text"
      },
      "cell_type": "markdown",
      "source": [
        "#### <練習問題 3>\n",
        "\n",
        "3次元スプライン補間も加えてみましょう。"
      ]
    },
    {
      "metadata": {
        "id": "5q2XoXVLHpgN",
        "colab_type": "text"
      },
      "cell_type": "markdown",
      "source": [
        "### 5.3.2 線形代数：行列の分解\n",
        "キーワード：linalg、特異値分解、LU分解、コレスキー分解"
      ]
    },
    {
      "metadata": {
        "id": "BSnl31dcHpgO",
        "colab_type": "text"
      },
      "cell_type": "markdown",
      "source": [
        "ここでは、行列計算の応用を扱っていきます。なお、ここはこの講座でも難しい項目になりますので、大学で線形代数をやっていない方は、スキップしても大丈夫です。\n",
        "\n",
        "まずは**特異値分解（singular value decomposition, SVD）**から見ていきましょう。固有値を計算していたときには、その行列が正方行列であることを前提としていましたが、特意値分解は正方行列ではない行列にも拡張したものと言えます。Aの特異値分解とは、"
      ]
    },
    {
      "metadata": {
        "id": "k6lrl3pMHpgO",
        "colab_type": "text"
      },
      "cell_type": "markdown",
      "source": [
        "\\begin{eqnarray}\n",
        "A = U \\sum V^*\n",
        "\\end{eqnarray}"
      ]
    },
    {
      "metadata": {
        "id": "23hBXuL1HpgP",
        "colab_type": "text"
      },
      "cell_type": "markdown",
      "source": [
        "のことをいいます。ここで、Vは$A^*A$(*は共役転置行列を表す)の固有ベクトルを列ベクトルとして並べた行列、Uは$AA^*$の固有ベクトルを列ベクトルとして並べた行列、$\\sum$は特異値を対角に並べた行列とします。ただし、Aは(m,n)行列として、$AA^*$（ハミルトン行列）の固有値はせいぜい$min(m,n)$であり、それらの正の固有値を$\\sigma^2_i$とした時、固有値の平方根$\\sigma_i$を特異値といいます。"
      ]
    },
    {
      "metadata": {
        "id": "0rm-DdwzHpgQ",
        "colab_type": "text"
      },
      "cell_type": "markdown",
      "source": [
        ">[参考URL]\n",
        "\n",
        ">特異値分解：https://ja.wikipedia.org/wiki/%E7%89%B9%E7%95%B0%E5%80%A4%E5%88%86%E8%A7%A3"
      ]
    },
    {
      "metadata": {
        "id": "BJey0iDaHpgQ",
        "colab_type": "text"
      },
      "cell_type": "markdown",
      "source": [
        "具体的に計算をすると以下になります。ちなみに、@は行列の積を簡素化するための演算子です。（PythonやNumpyのバージョンによっては使えませんが、ilect上では大丈夫です。）"
      ]
    },
    {
      "metadata": {
        "id": "7Zn14pHKHpgQ",
        "colab_type": "code",
        "colab": {
          "base_uri": "https://localhost:8080/",
          "height": 68
        },
        "outputId": "e9a4aa4c-ea6f-42a0-f3d6-81b856c235f2"
      },
      "cell_type": "code",
      "source": [
        "# (2,5)行列\n",
        "A = np.array([[1,2,3,4,5],[6,7,8,9,10]])\n",
        "\n",
        "# 特異値分解の関数linalg.svd\n",
        "U, s, Vs = sp.linalg.svd(A)\n",
        "m, n = A.shape\n",
        "\n",
        "S = sp.linalg.diagsvd(s,m,n)\n",
        "\n",
        "print(\"U.S.V* = \\n\",U@S@Vs)"
      ],
      "execution_count": 42,
      "outputs": [
        {
          "output_type": "stream",
          "text": [
            "U.S.V* = \n",
            " [[ 1.  2.  3.  4.  5.]\n",
            " [ 6.  7.  8.  9. 10.]]\n"
          ],
          "name": "stdout"
        }
      ]
    },
    {
      "metadata": {
        "id": "ThchZpQ0HpgS",
        "colab_type": "text"
      },
      "cell_type": "markdown",
      "source": [
        "補足：ちなみに、この特異値分解は機械学習の章で学ぶリッジ回帰や主成分分析などと関係があります。さらに深層学習を学ぶ上でも行列分解は大事です。この講座では、細かい計算は追いませんが、頭の片隅において置いてください。"
      ]
    },
    {
      "metadata": {
        "id": "yb2CwHTpHpgU",
        "colab_type": "text"
      },
      "cell_type": "markdown",
      "source": [
        ">[参考URL]\n",
        "\n",
        ">Statistical Learning with Sparsity The Lasso and Generalizations:https://web.stanford.edu/~hastie/StatLearnSparsity_files/SLS.pdf"
      ]
    },
    {
      "metadata": {
        "id": "vtTnyJOqHpgV",
        "colab_type": "text"
      },
      "cell_type": "markdown",
      "source": [
        "次は、**LU分解**です。Aを正方行列として、Ax = bを解く代わりに、PLUx = bを解くことで、効率よく解を求めることができます。置換行列P、対角成分がすべて1の下3角行列L、上3角行列UをA = PLU となるようにおきます。具体的な計算は次のようになります。"
      ]
    },
    {
      "metadata": {
        "id": "0s3Eg3x4HpgV",
        "colab_type": "code",
        "colab": {
          "base_uri": "https://localhost:8080/",
          "height": 34
        },
        "outputId": "4f6f707d-076f-4c4f-d02b-cc450fa123ac"
      },
      "cell_type": "code",
      "source": [
        "#データの準備\n",
        "A = np.identity(5)\n",
        "A[0,:] = 1\n",
        "A[:,0] = 1\n",
        "A[0,0] = 5\n",
        "b = np.ones(5)\n",
        "\n",
        "# 正方行列をLU分解する\n",
        "(LU,piv) = sp.linalg.lu_factor(A)\n",
        "\n",
        "L = np.identity(5) + np.tril(LU,-1)\n",
        "U = np.triu(LU)\n",
        "P = np.identity(5)[piv]\n",
        "\n",
        "# 解を求める\n",
        "x = sp.linalg.lu_solve((LU,piv),b)\n",
        "x"
      ],
      "execution_count": 43,
      "outputs": [
        {
          "output_type": "execute_result",
          "data": {
            "text/plain": [
              "array([-3.,  4.,  4.,  4.,  4.])"
            ]
          },
          "metadata": {
            "tags": []
          },
          "execution_count": 43
        }
      ]
    },
    {
      "metadata": {
        "id": "CPHPrQg0HpgX",
        "colab_type": "text"
      },
      "cell_type": "markdown",
      "source": [
        "次は、**コレスキー分解**です。Aがエルミート行列で正定値の場合に、下3角行列L、共役転置$L^*$の積$A=LL^*$に分解し、方程式は$LL^*x = b$となり、これを解きます。"
      ]
    },
    {
      "metadata": {
        "id": "UHedr6ToHpgX",
        "colab_type": "code",
        "colab": {
          "base_uri": "https://localhost:8080/",
          "height": 34
        },
        "outputId": "451ff3d4-118e-443c-c005-22b7bde5f5e8"
      },
      "cell_type": "code",
      "source": [
        "A = np.array([[7, -1, 0, 1],\n",
        "              [-1, 9, -2, 2],\n",
        "              [0, -2, 8, -3],\n",
        "              [1, 2, -3, 10]])\n",
        "b = np.array([5, 20, 0, 20])\n",
        "\n",
        "\n",
        "L = sp.linalg.cholesky(A)\n",
        "\n",
        "t = sp.linalg.solve(L.T.conj(), b)\n",
        "x = sp.linalg.solve(L, t)\n",
        "\n",
        "# 解答\n",
        "print(x)"
      ],
      "execution_count": 44,
      "outputs": [
        {
          "output_type": "stream",
          "text": [
            "[0.758 2.168 1.241 1.863]\n"
          ],
          "name": "stdout"
        }
      ]
    },
    {
      "metadata": {
        "id": "QyaRdpFYHpgZ",
        "colab_type": "code",
        "colab": {
          "base_uri": "https://localhost:8080/",
          "height": 34
        },
        "outputId": "558ed3b1-0ad9-465f-e36d-7158def7f4d6"
      },
      "cell_type": "code",
      "source": [
        "# 確認\n",
        "np.dot(A,x)"
      ],
      "execution_count": 45,
      "outputs": [
        {
          "output_type": "execute_result",
          "data": {
            "text/plain": [
              "array([5.000e+00, 2.000e+01, 3.553e-15, 2.000e+01])"
            ]
          },
          "metadata": {
            "tags": []
          },
          "execution_count": 45
        }
      ]
    },
    {
      "metadata": {
        "id": "3Gzu81XwHpgb",
        "colab_type": "text"
      },
      "cell_type": "markdown",
      "source": [
        "他には、QR分解等も可能です。ここでは割愛しますが、以下のURLなどを参考にしてください。"
      ]
    },
    {
      "metadata": {
        "id": "l39qdC4iHpgb",
        "colab_type": "text"
      },
      "cell_type": "markdown",
      "source": [
        ">[参考URL]\n",
        "\n",
        ">Scipyの行列計算：https://docs.scipy.org/doc/scipy/reference/tutorial/linalg.html"
      ]
    },
    {
      "metadata": {
        "id": "xjnnC79WHpgc",
        "colab_type": "text"
      },
      "cell_type": "markdown",
      "source": [
        "以上でScipyを使った線形代数・行列の分解については終わりになります。\n",
        "\n",
        "なお、行列分解の計算だけを見ていると何の役に立つのイメージしにくいのですが、実務的には商品のリコメンデーションなどに応用されています（非負値行列因子分解（NMF: Non-negative Matrix Factorization）など）。購買データを扱う際、1つ1つの購買（バスケット、購買ユーザー）に対して、各購入商品のフラグ付けをして行列にすることが多いのですが、ほとんど疎（スパース）な状態で、そのまま集計・分析をするとあまり意味のある結果が出ないことが多いです。そのため、次元削減するのに行列の分解の結果が使われます。なお、これらに関連する参考書としては、以下が参考になります。"
      ]
    },
    {
      "metadata": {
        "id": "Da4ip2OeHpgc",
        "colab_type": "text"
      },
      "cell_type": "markdown",
      "source": [
        ">[参考文献]\n",
        "\n",
        ">『岩波データサイエンス Vol.5、特集「スパースモデリングと多変量データ解析」』（岩波データサイエンス刊行委員会 (編集)、岩波書店）\n"
      ]
    },
    {
      "metadata": {
        "id": "1FHNK09mHpgd",
        "colab_type": "text"
      },
      "cell_type": "markdown",
      "source": [
        "ちなみに、非負値行列因子分解は、ある行列XをX≒WHと近似した時に、その近似後の行列W、Hの要素が全部正になるようにしており、以下の例はsklearnのdecompositionを使っています。"
      ]
    },
    {
      "metadata": {
        "id": "G7ocBF8EHpgd",
        "colab_type": "code",
        "colab": {}
      },
      "cell_type": "code",
      "source": [
        "# NMFを使います\n",
        "from sklearn.decomposition import NMF\n",
        "\n",
        "# 分解対象行列\n",
        "X = np.array([[1,1,1], [2,2,2],[3,3,3], [4,4,4]])\n",
        "\n",
        "model = NMF(n_components=2, init='random', random_state=0)\n",
        "\n",
        "W = model.fit_transform(X)\n",
        "H = model.components_"
      ],
      "execution_count": 0,
      "outputs": []
    },
    {
      "metadata": {
        "id": "bvpUhTypHpgf",
        "colab_type": "code",
        "colab": {
          "base_uri": "https://localhost:8080/",
          "height": 85
        },
        "outputId": "f7a0acb5-690b-4d58-a887-4622c93bda48"
      },
      "cell_type": "code",
      "source": [
        "W"
      ],
      "execution_count": 47,
      "outputs": [
        {
          "output_type": "execute_result",
          "data": {
            "text/plain": [
              "array([[0.425, 0.222],\n",
              "       [0.698, 0.537],\n",
              "       [0.039, 1.434],\n",
              "       [2.377, 0.463]])"
            ]
          },
          "metadata": {
            "tags": []
          },
          "execution_count": 47
        }
      ]
    },
    {
      "metadata": {
        "id": "c7EEgeFfHpgg",
        "colab_type": "code",
        "colab": {
          "base_uri": "https://localhost:8080/",
          "height": 51
        },
        "outputId": "a0a67d21-ae17-4057-d4eb-aad0a8d0dee7"
      },
      "cell_type": "code",
      "source": [
        "H"
      ],
      "execution_count": 48,
      "outputs": [
        {
          "output_type": "execute_result",
          "data": {
            "text/plain": [
              "array([[1.281, 1.281, 1.282],\n",
              "       [2.058, 2.058, 2.058]])"
            ]
          },
          "metadata": {
            "tags": []
          },
          "execution_count": 48
        }
      ]
    },
    {
      "metadata": {
        "id": "nbI1iNo5Hpgj",
        "colab_type": "code",
        "colab": {
          "base_uri": "https://localhost:8080/",
          "height": 85
        },
        "outputId": "3b6c0f3d-8a53-4a4a-c24d-8171fe259b0e"
      },
      "cell_type": "code",
      "source": [
        "np.dot(W, H) #W@Hでもよい"
      ],
      "execution_count": 49,
      "outputs": [
        {
          "output_type": "execute_result",
          "data": {
            "text/plain": [
              "array([[1., 1., 1.],\n",
              "       [2., 2., 2.],\n",
              "       [3., 3., 3.],\n",
              "       [4., 4., 4.]])"
            ]
          },
          "metadata": {
            "tags": []
          },
          "execution_count": 49
        }
      ]
    },
    {
      "metadata": {
        "id": "QqcDCfUKHpgk",
        "colab_type": "text"
      },
      "cell_type": "markdown",
      "source": [
        "#### <練習問題 1>\n",
        "以下の行列に対して、特異値分解をしてください。"
      ]
    },
    {
      "metadata": {
        "id": "CzBjfH2eHpgl",
        "colab_type": "code",
        "colab": {
          "base_uri": "https://localhost:8080/",
          "height": 105
        },
        "outputId": "e064a0a0-f9d6-466c-fae3-5067de9a71b4"
      },
      "cell_type": "code",
      "source": [
        "B = np.array([[1,2,3],[4,5,6],[7,8,9],[10,11,12]])\n",
        "B"
      ],
      "execution_count": 50,
      "outputs": [
        {
          "output_type": "execute_result",
          "data": {
            "text/plain": [
              "array([[ 1,  2,  3],\n",
              "       [ 4,  5,  6],\n",
              "       [ 7,  8,  9],\n",
              "       [10, 11, 12]])"
            ]
          },
          "metadata": {
            "tags": []
          },
          "execution_count": 50
        }
      ]
    },
    {
      "metadata": {
        "id": "AtiCDYyqHpgm",
        "colab_type": "text"
      },
      "cell_type": "markdown",
      "source": [
        "#### <練習問題 2>\n",
        "以下の行列に対して、LU分解をして、$Ax=b$の方程式を解いてください。"
      ]
    },
    {
      "metadata": {
        "scrolled": true,
        "id": "z02i_mEdHpgm",
        "colab_type": "code",
        "colab": {
          "base_uri": "https://localhost:8080/",
          "height": 156
        },
        "outputId": "2a55410a-b7f2-4ed9-a872-5901cbfaa12a"
      },
      "cell_type": "code",
      "source": [
        "#データの準備\n",
        "A = np.identity(3)\n",
        "print(A)\n",
        "A[0,:] = 1\n",
        "A[:,0] = 1\n",
        "A[0,0] = 3\n",
        "b = np.ones(3)\n",
        "print(A)\n",
        "print(b)"
      ],
      "execution_count": 51,
      "outputs": [
        {
          "output_type": "stream",
          "text": [
            "[[1. 0. 0.]\n",
            " [0. 1. 0.]\n",
            " [0. 0. 1.]]\n",
            "[[3. 1. 1.]\n",
            " [1. 1. 0.]\n",
            " [1. 0. 1.]]\n",
            "[1. 1. 1.]\n"
          ],
          "name": "stdout"
        }
      ]
    },
    {
      "metadata": {
        "id": "b0B9kxQPHpgo",
        "colab_type": "text"
      },
      "cell_type": "markdown",
      "source": [
        "### 5.3.3 積分と微分方程式\n",
        "キーワード：数値積分、微分方程式、integrate"
      ]
    },
    {
      "metadata": {
        "id": "it5pUZAzHpgo",
        "colab_type": "text"
      },
      "cell_type": "markdown",
      "source": [
        "次は、積分計算です。Scipyを使えば、次の（数値）積分も求めることができます。"
      ]
    },
    {
      "metadata": {
        "id": "25cWmqgSHpgo",
        "colab_type": "text"
      },
      "cell_type": "markdown",
      "source": [
        "\\begin{eqnarray}\n",
        "  \\int_0^1 \\frac{4}{1+x^2} dx\n",
        "\\end{eqnarray}"
      ]
    },
    {
      "metadata": {
        "id": "F_KYewCQHpgo",
        "colab_type": "text"
      },
      "cell_type": "markdown",
      "source": [
        "これは実際は$\\pi$（3.14..）に等しいですが、以下のコードで確かめていきましょう。積分計算は、integrate.quadを使います。"
      ]
    },
    {
      "metadata": {
        "id": "25xWee88Hpgp",
        "colab_type": "code",
        "colab": {}
      },
      "cell_type": "code",
      "source": [
        "# 積分計算\n",
        "from scipy import integrate\n",
        "import math"
      ],
      "execution_count": 0,
      "outputs": []
    },
    {
      "metadata": {
        "id": "YmhkWCljHpgq",
        "colab_type": "text"
      },
      "cell_type": "markdown",
      "source": [
        "次に上の関数をセットするため、関数を作成します。"
      ]
    },
    {
      "metadata": {
        "id": "jkXfJaZWHpgq",
        "colab_type": "code",
        "colab": {}
      },
      "cell_type": "code",
      "source": [
        "def calcPi(x):\n",
        "    return 4/(1+x**2)"
      ],
      "execution_count": 0,
      "outputs": []
    },
    {
      "metadata": {
        "id": "wAabLkO-Hpgr",
        "colab_type": "text"
      },
      "cell_type": "markdown",
      "source": [
        "計算するためにintegrate.quadを使うのですが、上の関数を1つ目の引数、2つ目と3つ目の引数に積分範囲を設定します。"
      ]
    },
    {
      "metadata": {
        "id": "oJTcz265Hpgr",
        "colab_type": "code",
        "colab": {
          "base_uri": "https://localhost:8080/",
          "height": 54
        },
        "outputId": "035622b9-11b3-4430-c05c-8a80e13d1664"
      },
      "cell_type": "code",
      "source": [
        "# 計算結果と推定誤差\n",
        "integrate.quad(calcPi, 0, 1)"
      ],
      "execution_count": 54,
      "outputs": [
        {
          "output_type": "execute_result",
          "data": {
            "text/plain": [
              "(3.142, 0.000)"
            ]
          },
          "metadata": {
            "tags": []
          },
          "execution_count": 54
        }
      ]
    },
    {
      "metadata": {
        "id": "9sgxBuDFHpgs",
        "colab_type": "text"
      },
      "cell_type": "markdown",
      "source": [
        "以下は同じ処理を無名関数を使って実行しています。"
      ]
    },
    {
      "metadata": {
        "id": "CxN_SDpWHpgs",
        "colab_type": "code",
        "colab": {
          "base_uri": "https://localhost:8080/",
          "height": 54
        },
        "outputId": "c5ca2ac2-93b4-48b3-bfcf-b243e869c90f"
      },
      "cell_type": "code",
      "source": [
        "# 無名関数で書くことも可能\n",
        "integrate.quad(lambda x: 4/(1+x**2), 0, 1)"
      ],
      "execution_count": 55,
      "outputs": [
        {
          "output_type": "execute_result",
          "data": {
            "text/plain": [
              "(3.142, 0.000)"
            ]
          },
          "metadata": {
            "tags": []
          },
          "execution_count": 55
        }
      ]
    },
    {
      "metadata": {
        "id": "lJv-bz84Hpgt",
        "colab_type": "text"
      },
      "cell_type": "markdown",
      "source": [
        "どちらもほぼ3.14になっているのがわかると思います。"
      ]
    },
    {
      "metadata": {
        "id": "h0882uvqHpgu",
        "colab_type": "text"
      },
      "cell_type": "markdown",
      "source": [
        "sin関数も求めてみましょう。"
      ]
    },
    {
      "metadata": {
        "id": "pY8pk2x3Hpgu",
        "colab_type": "code",
        "colab": {
          "base_uri": "https://localhost:8080/",
          "height": 54
        },
        "outputId": "22a85e8c-2120-404c-efed-c26441be97b2"
      },
      "cell_type": "code",
      "source": [
        "from numpy import sin\n",
        "integrate.quad(sin, 0, math.pi/1)"
      ],
      "execution_count": 56,
      "outputs": [
        {
          "output_type": "execute_result",
          "data": {
            "text/plain": [
              "(2.000, 0.000)"
            ]
          },
          "metadata": {
            "tags": []
          },
          "execution_count": 56
        }
      ]
    },
    {
      "metadata": {
        "id": "9TJVx4z3Hpgv",
        "colab_type": "text"
      },
      "cell_type": "markdown",
      "source": [
        "2重積分も計算できます。"
      ]
    },
    {
      "metadata": {
        "id": "2W9EyRQOHpgv",
        "colab_type": "text"
      },
      "cell_type": "markdown",
      "source": [
        "\\begin{eqnarray*}\n",
        "  && \\int_0^\\infty \\!\\!\\! \\int_1^\\infty \\frac{\\mathrm{e}^{-xt}}{t^n}  dtdx \\\\\n",
        "  && \n",
        "\\end{eqnarray*}"
      ]
    },
    {
      "metadata": {
        "id": "eN7Oc1jcHpgw",
        "colab_type": "text"
      },
      "cell_type": "markdown",
      "source": [
        "もちろんこれも手計算で実施可能で、$\\frac{1}{n}$になりますが、integrate.dblquadを使って、確かめましょう。ただし、コンピューターの数値計算なので、前と同様に完全に一致することはなく、誤差が生じます。"
      ]
    },
    {
      "metadata": {
        "id": "zuIIwFJ2Hpgw",
        "colab_type": "code",
        "colab": {}
      },
      "cell_type": "code",
      "source": [
        "# 2重積分\n",
        "def I(n):\n",
        "    return integrate.dblquad(lambda t, x: np.exp(-x*t)/t**n, 0, np.inf, lambda x: 1, lambda x: np.inf)"
      ],
      "execution_count": 0,
      "outputs": []
    },
    {
      "metadata": {
        "id": "OzIhr1LqHpgx",
        "colab_type": "code",
        "colab": {
          "base_uri": "https://localhost:8080/",
          "height": 105
        },
        "outputId": "66b03b1b-5177-4fee-8128-76fb9213633c"
      },
      "cell_type": "code",
      "source": [
        "print(\"n=1の時:\",I(1))\n",
        "print(\"n=2の時:\",I(2))\n",
        "print(\"n=3の時:\",I(3))\n",
        "print(\"n=4の時:\",I(4))"
      ],
      "execution_count": 58,
      "outputs": [
        {
          "output_type": "stream",
          "text": [
            "n=1の時: (1.0000000000048965, 6.360750360104306e-08)\n",
            "n=2の時: (0.4999999999985751, 1.3894083651858995e-08)\n",
            "n=3の時: (0.33333333325010883, 1.3888461883425516e-08)\n",
            "n=4の時: (0.2500000000043577, 1.2983033469368098e-08)\n"
          ],
          "name": "stdout"
        }
      ]
    },
    {
      "metadata": {
        "id": "IP0WuIyqHpgz",
        "colab_type": "text"
      },
      "cell_type": "markdown",
      "source": [
        "参考ですが、さらに、Scipyを使って微分方程式も計算することができます。以下は、カオス理論で有名なローレンツ方程式で、ローレンツが論文で与えたパラメータp = 10、r = 28、b = 8/3 という設定で x, y, zの軌跡を描いています。（以下のコードでは、vがベクトルとなって、x,y,zはそれぞれv[0],v[1],v[2]になります。）"
      ]
    },
    {
      "metadata": {
        "id": "MDCbARkLHpg1",
        "colab_type": "code",
        "colab": {}
      },
      "cell_type": "code",
      "source": [
        "# モジュールの読み込み\n",
        "import numpy as np\n",
        "from scipy.integrate import odeint\n",
        "import matplotlib.pyplot as plt\n",
        "from mpl_toolkits.mplot3d import Axes3D\n",
        "\n",
        "# ローレンツ方程式\n",
        "def lorenz_func(v, t, p, r, b):\n",
        "    return [-p*v[0]+p*v[1], -v[0]*v[2]+r*v[0]-v[1], v[0]*v[1]-b*v[2]]"
      ],
      "execution_count": 0,
      "outputs": []
    },
    {
      "metadata": {
        "id": "zr0jqygsHpg2",
        "colab_type": "text"
      },
      "cell_type": "markdown",
      "source": [
        "上で作成した関数をodeintのパラメータとして計算し、グラフ化してみます。"
      ]
    },
    {
      "metadata": {
        "id": "l33NQBIAHpg3",
        "colab_type": "code",
        "colab": {
          "base_uri": "https://localhost:8080/",
          "height": 268
        },
        "outputId": "9ff8bfce-d3f4-4a41-b1b5-9333d36fb816"
      },
      "cell_type": "code",
      "source": [
        "# パラメータの設定\n",
        "p = 10\n",
        "r = 28\n",
        "b = 8/3\n",
        "v0 = [0.1, 0.1, 0.1]\n",
        "t = np.arange(0, 100, 0.01)\n",
        "\n",
        "# 関数の呼び出し\n",
        "v = odeint(lorenz_func, v0, t, args=(p, r, b))\n",
        "\n",
        "# 可視化\n",
        "fig = plt.figure()\n",
        "ax = fig.gca(projection='3d')\n",
        "ax.plot(v[:, 0], v[:, 1], v[:, 2])\n",
        "\n",
        "# ラベルなど\n",
        "plt.title(\"Lorenz\")\n",
        "plt.grid(True)"
      ],
      "execution_count": 60,
      "outputs": [
        {
          "output_type": "display_data",
          "data": {
            "image/png": "[encoded data removed]",
            "text/plain": [
              "<Figure size 432x288 with 1 Axes>"
            ]
          },
          "metadata": {
            "tags": []
          }
        }
      ]
    },
    {
      "metadata": {
        "id": "-QHjQOiMHpg5",
        "colab_type": "text"
      },
      "cell_type": "markdown",
      "source": [
        ">[参照URL]\n",
        "\n",
        ">ローレンツ方程式（英語）：https://en.wikipedia.org/wiki/Lorenz_system  \n",
        ">ローレンツ方程式（日本語):https://ja.wikipedia.org/wiki/%E3%83%AD%E3%83%BC%E3%83%AC%E3%83%B3%E3%83%84%E6%96%B9%E7%A8%8B%E5%BC%8F\n",
        "\n",
        ">Pythonとローレンツ方程式：http://org-technology.com/posts/ordinary-differential-equations.html"
      ]
    },
    {
      "metadata": {
        "id": "3KZR6Aj-Hpg5",
        "colab_type": "text"
      },
      "cell_type": "markdown",
      "source": [
        ">[参考URL]\n",
        "\n",
        ">Scipyの積分と微分方程式計算：https://docs.scipy.org/doc/scipy/reference/tutorial/integrate.html\n"
      ]
    },
    {
      "metadata": {
        "id": "es73OJ0QHpg6",
        "colab_type": "text"
      },
      "cell_type": "markdown",
      "source": [
        "#### <練習問題 1>\n",
        "以下の積分を求めてみましょう。"
      ]
    },
    {
      "metadata": {
        "id": "ikGgSznSHpg6",
        "colab_type": "text"
      },
      "cell_type": "markdown",
      "source": [
        "\\begin{eqnarray}\n",
        "  \\int_0^2 (x+1)^2 dx\n",
        "\\end{eqnarray}"
      ]
    },
    {
      "metadata": {
        "id": "eZf5_MQLHpg7",
        "colab_type": "text"
      },
      "cell_type": "markdown",
      "source": [
        "#### <練習問題 2>\n",
        "cos関数の範囲$(0,\\pi)$の積分を求めてみましょう。"
      ]
    },
    {
      "metadata": {
        "id": "ZpvXm9a4Hpg7",
        "colab_type": "text"
      },
      "cell_type": "markdown",
      "source": [
        "### 5.3.4 最適化\n",
        "キーワード：最適化、二分法、ブレント法、ニュートン法、optimize"
      ]
    },
    {
      "metadata": {
        "id": "398PyIiSHpg8",
        "colab_type": "text"
      },
      "cell_type": "markdown",
      "source": [
        "最後に、最適化計算（線形計画法）のメソッドについて学びましょう。また、方程式の解を求める処理も紹介していきます。最適化計算は、optimizeを使います。"
      ]
    },
    {
      "metadata": {
        "id": "dvKS7xBYHpg8",
        "colab_type": "code",
        "colab": {}
      },
      "cell_type": "code",
      "source": [
        "from scipy.optimize import fsolve"
      ],
      "execution_count": 0,
      "outputs": []
    },
    {
      "metadata": {
        "id": "uQNyo0ReHpg9",
        "colab_type": "text"
      },
      "cell_type": "markdown",
      "source": [
        "まずは、具体例として次の2次関数について、$f(x)$が0になる$x$を考えてみましょう。もちろん、解の公式で解くことができますが、Scipyのoptimizeの使い方を覚えるために、optimizeを使って解いてみます。"
      ]
    },
    {
      "metadata": {
        "id": "oYlg2bqMHpg9",
        "colab_type": "text"
      },
      "cell_type": "markdown",
      "source": [
        "\\begin{eqnarray*}\n",
        "\\ f(x) = 2x^2 + 2x -10\n",
        "\\end{eqnarray*}"
      ]
    },
    {
      "metadata": {
        "id": "arxAt8vpHpg-",
        "colab_type": "text"
      },
      "cell_type": "markdown",
      "source": [
        "該当の関数を以下のように宣言します。"
      ]
    },
    {
      "metadata": {
        "id": "vKBAqPJsHpg-",
        "colab_type": "code",
        "colab": {}
      },
      "cell_type": "code",
      "source": [
        "def f(x):\n",
        "    y = 2 * x**2 + 2 * x - 10\n",
        "    return y"
      ],
      "execution_count": 0,
      "outputs": []
    },
    {
      "metadata": {
        "id": "JsALp8jZHpg_",
        "colab_type": "text"
      },
      "cell_type": "markdown",
      "source": [
        "グラフ化してみましょう。"
      ]
    },
    {
      "metadata": {
        "id": "sf_etL-PHpg_",
        "colab_type": "code",
        "colab": {
          "base_uri": "https://localhost:8080/",
          "height": 285
        },
        "outputId": "08ea7147-43be-4d73-f6d5-50b2c115eb03"
      },
      "cell_type": "code",
      "source": [
        "# グラフ化してみる\n",
        "x = np.linspace(-4,4)\n",
        "plt.plot(x,f(x))\n",
        "plt.plot(x,np.zeros(len(x)))\n",
        "plt.grid(True)"
      ],
      "execution_count": 63,
      "outputs": [
        {
          "output_type": "display_data",
          "data": {
            "image/png": "[encoded data removed]",
            "text/plain": [
              "<Figure size 432x288 with 1 Axes>"
            ]
          },
          "metadata": {
            "tags": []
          }
        }
      ]
    },
    {
      "metadata": {
        "id": "op_577B1HphB",
        "colab_type": "text"
      },
      "cell_type": "markdown",
      "source": [
        "グラフから解は1と-2付近にあることがわかりますので、以下のような計算をさせると、解を算出してくれます。"
      ]
    },
    {
      "metadata": {
        "id": "mlIsXIRvHphC",
        "colab_type": "code",
        "colab": {
          "base_uri": "https://localhost:8080/",
          "height": 54
        },
        "outputId": "35348580-67e9-4929-9cd4-f64d346025ae"
      },
      "cell_type": "code",
      "source": [
        "# x = 1 付近\n",
        "x = fsolve(f,1)\n",
        "print(x)"
      ],
      "execution_count": 64,
      "outputs": [
        {
          "output_type": "stream",
          "text": [
            "[1.791]\n"
          ],
          "name": "stdout"
        }
      ]
    },
    {
      "metadata": {
        "id": "E7_26e_VHphE",
        "colab_type": "code",
        "colab": {
          "base_uri": "https://localhost:8080/",
          "height": 54
        },
        "outputId": "27824ac0-2aba-41d2-a89f-75470f9b8501"
      },
      "cell_type": "code",
      "source": [
        "# x = -2 付近\n",
        "x = fsolve(f,-2)\n",
        "print(x)"
      ],
      "execution_count": 65,
      "outputs": [
        {
          "output_type": "stream",
          "text": [
            "[-2.791]\n"
          ],
          "name": "stdout"
        }
      ]
    },
    {
      "metadata": {
        "id": "9vlMHCkMHphG",
        "colab_type": "text"
      },
      "cell_type": "markdown",
      "source": [
        "この章の最後に、次の最適化問題を考えてみましょう。(s.tはsubject to)"
      ]
    },
    {
      "metadata": {
        "id": "lT7sAIPpHphH",
        "colab_type": "text"
      },
      "cell_type": "markdown",
      "source": [
        "\\begin{eqnarray*}\n",
        "\\min x_1x_4(x_1+x_2+x_3)+x_3 \n",
        "\\\\\n",
        "s.t. \\ x_1x_2x_3x_4 \\ge 25\n",
        "\\\\\n",
        "1\\le x_1,x_2,x_3,x_4 \\le 5\n",
        "\\\\\n",
        "x_0 = (1,5,5,1)\n",
        "\\\\\n",
        "40-(x_1^2+ x_2^2+ x_3^2+ x_4^2) \\ge 0\n",
        "\\end{eqnarray*}"
      ]
    },
    {
      "metadata": {
        "id": "BsoqE_X_HphH",
        "colab_type": "text"
      },
      "cell_type": "markdown",
      "source": [
        "上記は、minの後に書いていある関数を最小化するのですが、s.t.の後に条件式がいくつか書いてあります。これらの条件のもとで、最小値を求めていきます。minimizeを使いますので、以下のように実装します。"
      ]
    },
    {
      "metadata": {
        "id": "u1jJhdVRHphI",
        "colab_type": "code",
        "colab": {}
      },
      "cell_type": "code",
      "source": [
        "from scipy.optimize import minimize"
      ],
      "execution_count": 0,
      "outputs": []
    },
    {
      "metadata": {
        "id": "8vC2TBzmHphJ",
        "colab_type": "text"
      },
      "cell_type": "markdown",
      "source": [
        "次に、目的となる関数\n",
        "\n",
        "\\begin{eqnarray*}x_1x_4(x_1+x_2+x_3)+x_3 \\end{eqnarray*}\n",
        "\n",
        "をコーディングします。"
      ]
    },
    {
      "metadata": {
        "id": "LaAOBwqeHphJ",
        "colab_type": "code",
        "colab": {}
      },
      "cell_type": "code",
      "source": [
        "# 目的となる関数\n",
        "def objective(x):\n",
        "    x1 = x[0]\n",
        "    x2 = x[1]\n",
        "    x3 = x[2]\n",
        "    x4 = x[3]\n",
        "    return x1*x4*(x1+x2+x3)+x3\n"
      ],
      "execution_count": 0,
      "outputs": []
    },
    {
      "metadata": {
        "id": "sDS4m4gmHphK",
        "colab_type": "text"
      },
      "cell_type": "markdown",
      "source": [
        "次に、s.t.以下にある制約条件をそれぞれコーディングします。"
      ]
    },
    {
      "metadata": {
        "id": "YVIZDu2gHphL",
        "colab_type": "code",
        "colab": {}
      },
      "cell_type": "code",
      "source": [
        "# 制約式その1\n",
        "def constraint1(x):\n",
        "    return x[0]*x[1]*x[2]*x[3]-25.0\n",
        "\n",
        "# 制約式その2\n",
        "def constraint2(x):\n",
        "    sum_sq = 40\n",
        "    for i in range(4):\n",
        "        sum_sq = sum_sq - x[i]**2\n",
        "    return sum_sq"
      ],
      "execution_count": 0,
      "outputs": []
    },
    {
      "metadata": {
        "id": "3Uv4o9DNHphL",
        "colab_type": "code",
        "colab": {
          "base_uri": "https://localhost:8080/",
          "height": 54
        },
        "outputId": "c81bec93-4845-4fe2-c80e-c1f09f94fa86"
      },
      "cell_type": "code",
      "source": [
        "# 初期値\n",
        "x0 = [1,5,5,1]\n",
        "print(objective(x0))"
      ],
      "execution_count": 69,
      "outputs": [
        {
          "output_type": "stream",
          "text": [
            "16\n"
          ],
          "name": "stdout"
        }
      ]
    },
    {
      "metadata": {
        "id": "KGCNVIb9HphN",
        "colab_type": "text"
      },
      "cell_type": "markdown",
      "source": [
        "minimize利用のため、以下のように変数を作成します。typeがineqだったり、funがconstrain1だったり、各パラメータは上の初めの式を見ながら意味を理解してください。"
      ]
    },
    {
      "metadata": {
        "id": "nwMd7OMTHphN",
        "colab_type": "code",
        "colab": {}
      },
      "cell_type": "code",
      "source": [
        "b = (1.0,5.0)\n",
        "bnds = (b,b,b,b)\n",
        "con1 = {'type':'ineq','fun':constraint1}\n",
        "con2 = {'type':'ineq','fun':constraint2}\n",
        "cons = [con1,con2]"
      ],
      "execution_count": 0,
      "outputs": []
    },
    {
      "metadata": {
        "id": "Bj6VANUcHphO",
        "colab_type": "text"
      },
      "cell_type": "markdown",
      "source": [
        "以下が最適化計算の実行結果を代入しています。メソッドのSLSQPはSequential Least SQuares Programmingの略で、逐次二次計画法です。パラメータが以下の通り、はじめに対象となる関数を設定し、条件式等を代入します。"
      ]
    },
    {
      "metadata": {
        "id": "d-Jv20ldHphO",
        "colab_type": "code",
        "colab": {}
      },
      "cell_type": "code",
      "source": [
        "sol = minimize(objective,x0,method='SLSQP',bounds=bnds,constraints=cons)"
      ],
      "execution_count": 0,
      "outputs": []
    },
    {
      "metadata": {
        "id": "wFDoE81XHphR",
        "colab_type": "code",
        "colab": {
          "base_uri": "https://localhost:8080/",
          "height": 190
        },
        "outputId": "932dcac9-358c-4960-85a2-dadcdc97cd8d"
      },
      "cell_type": "code",
      "source": [
        "print(sol)"
      ],
      "execution_count": 72,
      "outputs": [
        {
          "output_type": "stream",
          "text": [
            "     fun: 17.014017245446883\n",
            "     jac: array([14.572,  1.379,  2.379,  9.564])\n",
            " message: 'Optimization terminated successfully.'\n",
            "    nfev: 30\n",
            "     nit: 5\n",
            "    njev: 5\n",
            "  status: 0\n",
            " success: True\n",
            "       x: array([1.   , 4.743, 3.821, 1.379])\n"
          ],
          "name": "stdout"
        }
      ]
    },
    {
      "metadata": {
        "id": "bbY7ZbsTHphT",
        "colab_type": "text"
      },
      "cell_type": "markdown",
      "source": [
        "以上より、xが以下のような値をとるときに、関数は約17という最小値を取ることがわかりました。"
      ]
    },
    {
      "metadata": {
        "id": "rLczlHokHphT",
        "colab_type": "code",
        "colab": {
          "base_uri": "https://localhost:8080/",
          "height": 71
        },
        "outputId": "f74c3f25-f317-4876-ca09-1b7d871a800c"
      },
      "cell_type": "code",
      "source": [
        "print(\"Y:\",sol.fun)\n",
        "print(\"X:\",sol.x)"
      ],
      "execution_count": 73,
      "outputs": [
        {
          "output_type": "stream",
          "text": [
            "Y: 17.014017245446883\n",
            "X: [1.    4.743 3.821 1.379]\n"
          ],
          "name": "stdout"
        }
      ]
    },
    {
      "metadata": {
        "id": "xmRkT7YkHphV",
        "colab_type": "text"
      },
      "cell_type": "markdown",
      "source": [
        "これで、Scipyの単元は終了になります。お疲れ様でした。これらの概念をはじめて見た方には難しかったかもしれませんが、この章で扱った計算以外にもたくさんの科学的な計算方法（fft,統計関数stats,デジタル信号のフィルタなど）がありますので、上記で紹介したサイトや、以下のレクチャーノート（NumpyやMatplotlibも含む）などを参考にしてください。"
      ]
    },
    {
      "metadata": {
        "id": "EZnVqTyYHphV",
        "colab_type": "text"
      },
      "cell_type": "markdown",
      "source": [
        ">[参考URL]\n",
        "\n",
        ">Scipy Lecture Notes: http://www.turbare.net/transl/scipy-lecture-notes/index.html"
      ]
    },
    {
      "metadata": {
        "id": "3FhOgHV3HphV",
        "colab_type": "text"
      },
      "cell_type": "markdown",
      "source": [
        "次の章では、Pandasを用いたデータハンドリングについてさらに学んでいきましょう。"
      ]
    },
    {
      "metadata": {
        "id": "4ixVzuDIHphW",
        "colab_type": "text"
      },
      "cell_type": "markdown",
      "source": [
        "#### <練習問題 1>\n",
        "以下の関数が0となる解を求めましょう。"
      ]
    },
    {
      "metadata": {
        "id": "gX8drUnvHphW",
        "colab_type": "text"
      },
      "cell_type": "markdown",
      "source": [
        "\\begin{eqnarray*}\n",
        "\\ f(x) = 5x -10\n",
        "\\end{eqnarray*}"
      ]
    },
    {
      "metadata": {
        "id": "QYyOIZZUHphW",
        "colab_type": "text"
      },
      "cell_type": "markdown",
      "source": [
        "#### <練習問題 2>\n",
        "以下の関数が0となる解を求めましょう。"
      ]
    },
    {
      "metadata": {
        "id": "MTGr_KifHphX",
        "colab_type": "text"
      },
      "cell_type": "markdown",
      "source": [
        "\\begin{eqnarray*}\n",
        "\\ f(x) = x^3 - 2x^2 - 11x +12\n",
        "\\end{eqnarray*}"
      ]
    },
    {
      "metadata": {
        "id": "W8I3bFBQHphY",
        "colab_type": "text"
      },
      "cell_type": "markdown",
      "source": [
        "## 5.4 総合問題"
      ]
    },
    {
      "metadata": {
        "id": "HFcMWC06HphY",
        "colab_type": "text"
      },
      "cell_type": "markdown",
      "source": [
        "### 5.4.1 総合問題1"
      ]
    },
    {
      "metadata": {
        "id": "X_CX_mNTHphY",
        "colab_type": "text"
      },
      "cell_type": "markdown",
      "source": [
        "以下の行列に対して、コレスキー分解を活用して、$Ax=b$の方程式を解いてください。"
      ]
    },
    {
      "metadata": {
        "id": "_upTFYCEHphY",
        "colab_type": "code",
        "colab": {}
      },
      "cell_type": "code",
      "source": [
        "A = np.array([[5, 1, 0, 1],\n",
        "              [1, 9, -5, 7],\n",
        "              [0, -5, 8, -3],\n",
        "              [1, 7, -3, 10]])\n",
        "b = np.array([2, 10, 5, 10])"
      ],
      "execution_count": 0,
      "outputs": []
    },
    {
      "metadata": {
        "id": "mVAq22wYHphb",
        "colab_type": "text"
      },
      "cell_type": "markdown",
      "source": [
        "### 5.4.2 総合問題2"
      ]
    },
    {
      "metadata": {
        "id": "m2Xe2zDdHphb",
        "colab_type": "text"
      },
      "cell_type": "markdown",
      "source": [
        "$0≤ x ≤ 1$、0≤y≤1−x の三角領域で定義される以下の関数の積分値を求めてみましょう。\n",
        "\\begin{eqnarray}\n",
        "  \\int_0^1 \\int_0^{1-x} 1/(\\sqrt{(x+y)}(1+x+y)^2) dy dx \n",
        "\\end{eqnarray}\n"
      ]
    },
    {
      "metadata": {
        "id": "y2hFUO7rHphb",
        "colab_type": "text"
      },
      "cell_type": "markdown",
      "source": [
        "### 5.4.3 総合問題3"
      ]
    },
    {
      "metadata": {
        "id": "-SLX0wXIHphc",
        "colab_type": "text"
      },
      "cell_type": "markdown",
      "source": [
        "以下の最適化問題をSicpyを使って解いてみましょう。"
      ]
    },
    {
      "metadata": {
        "id": "3kb-_fqXHphd",
        "colab_type": "text"
      },
      "cell_type": "markdown",
      "source": [
        "\\begin{eqnarray*}\n",
        "\\ min \\ f(x) = x^2+1\n",
        "\\\\  s.t. x \\ge -1\n",
        "\\end{eqnarray*}"
      ]
    }
  ]
}